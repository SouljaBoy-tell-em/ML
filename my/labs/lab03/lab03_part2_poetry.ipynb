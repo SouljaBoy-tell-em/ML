{
 "cells": [
  {
   "cell_type": "markdown",
   "metadata": {},
   "source": [
    "### Part 2: Poetry generation (for real)\n",
    "\n",
    "Let's try to generate some poetry using RNNs. \n",
    "\n",
    "You have several choices here: \n",
    "\n",
    "* The Shakespeare sonnets, file `sonnets.txt` available in the notebook directory.\n",
    "\n",
    "* Роман в стихах \"Евгений Онегин\" Александра Сергеевича Пушкина. В предобработанном виде доступен по [ссылке](https://github.com/attatrol/data_sources/blob/master/onegin.txt).\n",
    "\n",
    "* Some other text source, if it will be approved by the course staff.\n",
    "\n",
    "Text generation can be designed in several steps:\n",
    "    \n",
    "1. Data loading.\n",
    "2. Dictionary generation.\n",
    "3. Data preprocessing.\n",
    "4. Model (neural network) training.\n",
    "5. Text generation (model evaluation).\n"
   ]
  },
  {
   "cell_type": "code",
   "execution_count": 215,
   "metadata": {},
   "outputs": [],
   "source": [
    "import string\n",
    "import os"
   ]
  },
  {
   "cell_type": "markdown",
   "metadata": {},
   "source": [
    "### Data loading: Shakespeare"
   ]
  },
  {
   "cell_type": "markdown",
   "metadata": {},
   "source": [
    "Shakespeare sonnets are awailable at this [link](http://www.gutenberg.org/ebooks/1041?msg=welcome_stranger). In addition, they are stored in the same directory as this notebook (`sonnetes.txt`). Simple preprocessing is already done for you in the next cell: all technical info is dropped."
   ]
  },
  {
   "cell_type": "code",
   "execution_count": 216,
   "metadata": {},
   "outputs": [],
   "source": [
    "if not os.path.exists('sonnets.txt'):\n",
    "    !wget https://raw.githubusercontent.com/girafe-ai/ml-course/22f_basic/homeworks_basic/lab02_deep_learning/sonnets.txt\n",
    "\n",
    "with open('sonnets.txt', 'r', encoding = 'UTF-8') as iofile:\n",
    "    text = iofile.readlines()\n",
    "    \n",
    "TEXT_START = 45\n",
    "TEXT_END = -368\n",
    "text = text[TEXT_START : TEXT_END]\n",
    "assert len(text) == 2616"
   ]
  },
  {
   "cell_type": "markdown",
   "metadata": {},
   "source": [
    "In opposite to the in-class practice, this time we want to predict complex text. Let's reduce the complexity of the task and lowercase all the symbols.\n",
    "\n",
    "Now variable `text` is a list of strings. Join all the strings into one and lowercase it."
   ]
  },
  {
   "cell_type": "code",
   "execution_count": 217,
   "metadata": {},
   "outputs": [
    {
     "name": "stdout",
     "output_type": "stream",
     "text": [
      "OK!\n"
     ]
    }
   ],
   "source": [
    "# Join all the strings into one and lowercase it\n",
    "# Put result into variable text.\n",
    "\n",
    "# Your great code here\n",
    "text = ''.join(text).lower()\n",
    "\n",
    "assert len(text) == 100225, \"Are you sure you have concatenated all the strings?\"\n",
    "assert not any([x in set(text) for x in string.ascii_uppercase]), \"Uppercase letters are present\"\n",
    "print(\"OK!\")"
   ]
  },
  {
   "cell_type": "markdown",
   "metadata": {},
   "source": [
    "### Data loading: \"Евгений Онегин\"\n"
   ]
  },
  {
   "cell_type": "code",
   "execution_count": 218,
   "metadata": {},
   "outputs": [],
   "source": [
    "# !wget https://raw.githubusercontent.com/attatrol/data_sources/master/onegin.txt\n",
    "    \n",
    "with open('onegin.txt', 'r', encoding = 'UTF-8') as iofile:\n",
    "    text = iofile.readlines()\n",
    "    \n",
    "text = [x.replace('\\t\\t', '') for x in text]"
   ]
  },
  {
   "cell_type": "markdown",
   "metadata": {},
   "source": [
    "In opposite to the in-class practice, this time we want to predict complex text. Let's reduce the complexity of the task and lowercase all the symbols.\n",
    "\n",
    "Now variable `text` is a list of strings. Join all the strings into one and lowercase it."
   ]
  },
  {
   "cell_type": "code",
   "execution_count": 219,
   "metadata": {},
   "outputs": [],
   "source": [
    "# Join all the strings into one and lowercase it\n",
    "# Put result into variable text.\n",
    "\n",
    "# Your great code here\n",
    "text = ''.join(text).lower()\n",
    "text = text[TEXT_START:TEXT_END]"
   ]
  },
  {
   "cell_type": "markdown",
   "metadata": {},
   "source": [
    "Put all the characters, that you've seen in the text, into variable `tokens`."
   ]
  },
  {
   "cell_type": "code",
   "execution_count": 220,
   "metadata": {},
   "outputs": [],
   "source": [
    "tokens = sorted(set(text))"
   ]
  },
  {
   "cell_type": "markdown",
   "metadata": {},
   "source": [
    "Create dictionary `token_to_idx = {<char>: <index>}` and dictionary `idx_to_token = {<index>: <char>}`"
   ]
  },
  {
   "cell_type": "code",
   "execution_count": 221,
   "metadata": {},
   "outputs": [
    {
     "name": "stdout",
     "output_type": "stream",
     "text": [
      "83 {'\\n': 0, ' ': 1, '!': 2, '(': 3, ')': 4, ',': 5, '-': 6, '.': 7, '5': 8, '7': 9, '8': 10, '9': 11, ':': 12, ';': 13, '?': 14, '[': 15, ']': 16, '^': 17, 'a': 18, 'b': 19, 'c': 20, 'd': 21, 'e': 22, 'f': 23, 'g': 24, 'h': 25, 'i': 26, 'k': 27, 'l': 28, 'm': 29, 'n': 30, 'o': 31, 'p': 32, 'q': 33, 'r': 34, 's': 35, 't': 36, 'u': 37, 'v': 38, 'w': 39, 'x': 40, 'y': 41, 'z': 42, '«': 43, '»': 44, 'а': 45, 'б': 46, 'в': 47, 'г': 48, 'д': 49, 'е': 50, 'ж': 51, 'з': 52, 'и': 53, 'й': 54, 'к': 55, 'л': 56, 'м': 57, 'н': 58, 'о': 59, 'п': 60, 'р': 61, 'с': 62, 'т': 63, 'у': 64, 'ф': 65, 'х': 66, 'ц': 67, 'ч': 68, 'ш': 69, 'щ': 70, 'ъ': 71, 'ы': 72, 'ь': 73, 'э': 74, 'ю': 75, 'я': 76, 'ё': 77, '–': 78, '—': 79, '’': 80, '…': 81, '€': 82}\n",
      "83 {0: '\\n', 1: ' ', 2: '!', 3: '(', 4: ')', 5: ',', 6: '-', 7: '.', 8: '5', 9: '7', 10: '8', 11: '9', 12: ':', 13: ';', 14: '?', 15: '[', 16: ']', 17: '^', 18: 'a', 19: 'b', 20: 'c', 21: 'd', 22: 'e', 23: 'f', 24: 'g', 25: 'h', 26: 'i', 27: 'k', 28: 'l', 29: 'm', 30: 'n', 31: 'o', 32: 'p', 33: 'q', 34: 'r', 35: 's', 36: 't', 37: 'u', 38: 'v', 39: 'w', 40: 'x', 41: 'y', 42: 'z', 43: '«', 44: '»', 45: 'а', 46: 'б', 47: 'в', 48: 'г', 49: 'д', 50: 'е', 51: 'ж', 52: 'з', 53: 'и', 54: 'й', 55: 'к', 56: 'л', 57: 'м', 58: 'н', 59: 'о', 60: 'п', 61: 'р', 62: 'с', 63: 'т', 64: 'у', 65: 'ф', 66: 'х', 67: 'ц', 68: 'ч', 69: 'ш', 70: 'щ', 71: 'ъ', 72: 'ы', 73: 'ь', 74: 'э', 75: 'ю', 76: 'я', 77: 'ё', 78: '–', 79: '—', 80: '’', 81: '…', 82: '€'}\n"
     ]
    }
   ],
   "source": [
    "# dict <index>:<char>\n",
    "# Your great code here\n",
    "def get_tokens(text):\n",
    "    token_to_idx = {token: idx for idx, token in enumerate(tokens)}\n",
    "    print(len(token_to_idx), token_to_idx)\n",
    "    \n",
    "    idx_to_token = {idx: token for idx, token in enumerate(tokens)}\n",
    "    print(len(idx_to_token), idx_to_token)\n",
    "\n",
    "    return [token_to_idx[char] for char in text], token_to_idx, idx_to_token\n",
    "\n",
    "text, token_to_idx, idx_to_token = get_tokens(text)\n",
    "# dict <char>:<index>\n",
    "# Your great code here"
   ]
  },
  {
   "cell_type": "markdown",
   "metadata": {},
   "source": [
    "*Comment: in this task we have only 38 different tokens, so let's use one-hot encoding.*"
   ]
  },
  {
   "cell_type": "markdown",
   "metadata": {},
   "source": [
    "### Building the model"
   ]
  },
  {
   "cell_type": "markdown",
   "metadata": {},
   "source": [
    "Now we want to build and train recurrent neural net which would be able to something similar to Shakespeare's poetry.\n",
    "\n",
    "Let's use vanilla RNN, similar to the one created during the lesson."
   ]
  },
  {
   "cell_type": "code",
   "execution_count": 222,
   "metadata": {},
   "outputs": [],
   "source": [
    "# Your code here\n",
    "# Список используемой литературы: https://www.geeksforgeeks.org/implementing-recurrent-neural-networks-in-pytorch/\n",
    "\n",
    "import torch.nn as nn\n",
    "import torch\n",
    "import datetime\n",
    "\n",
    "def create_batches(text, seq = 64, size = 100):\n",
    "    inps_arr = []\n",
    "    tars_arr = []\n",
    "    \n",
    "    for i in range((len(text) - seq + size - 1) // size):\n",
    "        inps = []\n",
    "        tars = []\n",
    "        \n",
    "        for j in range(i * size, min((i + 1) * size, len(text) - seq)):\n",
    "            inps.append(text[j:j + seq])\n",
    "            tars.append(text[j + 1:j + seq + 1])\n",
    "\n",
    "        inps_arr.append(torch.tensor(inps, dtype = torch.int64))\n",
    "        tars_arr.append(torch.tensor(tars, dtype  =torch.int64))\n",
    "        \n",
    "    return inps_arr, tars_arr\n",
    "\n",
    "def train(model, dataset, size = 64, epochs = 10, learning_rate = 0.05):\n",
    "    opt = torch.optim.Adam(model.parameters(), lr=learning_rate)\n",
    "    loader = DataLoader(dataset, batch_size = size, shuffle = True)\n",
    "    cel = nn.CrossEntropyLoss()\n",
    "    \n",
    "    loss_arr = []\n",
    "\n",
    "    start = datetime.datetime.now()\n",
    "    for i in range(epochs):\n",
    "        full = 0\n",
    "        \n",
    "        for inps, tars in loader:\n",
    "            inps, tars = inps.to(device), tars.to(device)\n",
    "            \n",
    "            opt.zero_grad()\n",
    "            out, _ = model(inps, model.init(inps.size(0)))\n",
    "            loss = cel(out.reshape(-1, len(token_to_idx)), tars.reshape(-1))\n",
    "            loss.backward()\n",
    "            opt.step()\n",
    "            full += loss.item()\n",
    "\n",
    "        loss_arr.append(full / len(loader))\n",
    "        print(i)\n",
    "    \n",
    "    finish = datetime.datetime.now()\n",
    "    print(f'diff time:{str(finish - start)}')\n",
    "    \n",
    "    return loss_arr\n",
    "\n",
    "inps_arr, tars_arr = create_batches(text)\n",
    "device = torch.device('cuda')\n",
    "\n",
    "class RNN(nn.Module):\n",
    "    def __init__(self, size, emb_size = 64, hid_size = 64*2):\n",
    "        super().__init__()\n",
    "        self.embedding = nn.Embedding(size, emb_size)\n",
    "        self.rnn = nn.RNN(emb_size, hid_size, batch_first = True)\n",
    "        self.linear = nn.Linear(hid_size, size)\n",
    "\n",
    "    def forward(self, x, hidden):\n",
    "        out, hidden = self.rnn(self.embedding(x), hidden)\n",
    "        return self.linear(out), hidden\n",
    "\n",
    "    def init(self, size):\n",
    "        return torch.zeros(1, size, self.rnn.hidden_size).to(device)"
   ]
  },
  {
   "cell_type": "markdown",
   "metadata": {},
   "source": [
    "Plot the loss function (axis X: number of epochs, axis Y: loss function)."
   ]
  },
  {
   "cell_type": "code",
   "execution_count": 223,
   "metadata": {},
   "outputs": [
    {
     "name": "stdout",
     "output_type": "stream",
     "text": [
      "0\n",
      "1\n",
      "2\n",
      "3\n",
      "4\n",
      "5\n",
      "6\n",
      "7\n",
      "8\n",
      "9\n",
      "10\n",
      "11\n",
      "12\n",
      "13\n",
      "14\n",
      "15\n",
      "16\n",
      "17\n",
      "18\n",
      "19\n",
      "20\n",
      "21\n",
      "22\n",
      "23\n",
      "24\n",
      "25\n",
      "26\n",
      "27\n",
      "28\n",
      "29\n",
      "30\n",
      "31\n",
      "32\n",
      "33\n",
      "34\n",
      "35\n",
      "36\n",
      "37\n",
      "38\n",
      "39\n",
      "diff time:0:04:12.510602\n"
     ]
    },
    {
     "data": {
      "image/png": "[encoded data removed]",
      "text/plain": [
       "<Figure size 640x480 with 1 Axes>"
      ]
     },
     "metadata": {},
     "output_type": "display_data"
    }
   ],
   "source": [
    "# Your plot code here\n",
    "from torch.utils.data import DataLoader, TensorDataset\n",
    "import matplotlib.pyplot as plt\n",
    "\n",
    "model = RNN(len(token_to_idx)).to(device)\n",
    "plt.plot(train(model, TensorDataset(torch.cat(inps_arr), torch.cat(tars_arr)), epochs = 40, learning_rate = 0.001))\n",
    "plt.xlabel(\"epoch\")\n",
    "plt.ylabel(\"losses\")\n",
    "plt.show()"
   ]
  },
  {
   "cell_type": "code",
   "execution_count": 224,
   "metadata": {},
   "outputs": [],
   "source": [
    "# def generate_sample(char_rnn, seed_phrase=\" Hello\", max_length=MAX_LENGTH, temperature=1.0):\n",
    "#     \"\"\"\n",
    "#     ### Disclaimer: this is an example function for text generation.\n",
    "#     ### You can either adapt it in your code or create your own function\n",
    "\n",
    "#     The function generates text given a phrase of length at least SEQ_LENGTH.\n",
    "#     :param seed_phrase: prefix characters. The RNN is asked to continue the phrase\n",
    "#     :param max_length: maximum output length, including seed_phrase\n",
    "#     :param temperature: coefficient for sampling.  higher temperature produces more chaotic outputs,\n",
    "#         smaller temperature converges to the single most likely output.\n",
    "\n",
    "#     Be careful with the model output. This model waits logits (not probabilities/log-probabilities)\n",
    "#     of the next symbol.\n",
    "#     \"\"\"\n",
    "\n",
    "#     x_sequence = [token_to_id[token] for token in seed_phrase]\n",
    "#     x_sequence = torch.tensor([[x_sequence]], dtype=torch.int64)\n",
    "#     hid_state = char_rnn.initial_state(batch_size=1)\n",
    "\n",
    "#     # feed the seed phrase, if any\n",
    "#     for i in range(len(seed_phrase) - 1):\n",
    "#         print(x_sequence[:, -1].shape, hid_state.shape)\n",
    "#         out, hid_state = char_rnn(x_sequence[:, i], hid_state)\n",
    "\n",
    "#     # start generating\n",
    "#     for _ in range(max_length - len(seed_phrase)):\n",
    "#         print(x_sequence.shape, x_sequence, hid_state.shape)\n",
    "#         out, hid_state = char_rnn(x_sequence[:, -1], hid_state)\n",
    "#         # Be really careful here with the model output\n",
    "#         p_next = F.softmax(out / temperature, dim=-1).data.numpy()[0]\n",
    "\n",
    "#         # sample next token and push it back into x_sequence\n",
    "#         print(p_next.shape, len(tokens))\n",
    "#         next_ix = np.random.choice(len(tokens), p=p_next)\n",
    "#         next_ix = torch.tensor([[next_ix]], dtype=torch.int64)\n",
    "#         print(x_sequence.shape, next_ix.shape)\n",
    "#         x_sequence = torch.cat([x_sequence, next_ix], dim=1)\n",
    "\n",
    "#     return \"\".join([tokens[ix] for ix in x_sequence.data.numpy()[0]])\n",
    "\n",
    "\n",
    "\n",
    "\n",
    "\n",
    "import torch.nn.functional as tnnf\n",
    "from collections import Counter\n",
    "\n",
    "def generate_sample(model, token_to_idx, text, size, temperature=1.0):\n",
    "    model.eval()\n",
    "    \n",
    "    with torch.no_grad():\n",
    "        hid = model.init(1)\n",
    "        seq = torch.tensor([[token_to_idx.get(char, 0) for char in text]], dtype = torch.int64).to(device)\n",
    "\n",
    "        for _ in range(size - len(text)):\n",
    "            out, hid = model(seq, hid)\n",
    "            \n",
    "            next_char_index = torch.multinomial(tnnf.softmax(out[:, -1, :] / temperature, dim = -1), num_samples=1)[:, 0].item()\n",
    "            text += idx_to_token[next_char_index]\n",
    "            seq = torch.cat((seq[:, 1:], torch.tensor([[next_char_index]], dtype = torch.int64).to(device)), dim = 1)\n",
    "\n",
    "    return text\n",
    "\n",
    "def most_popular_words_set(text, amount = 3, l = 2):\n",
    "    split_it = text.split()\n",
    "    counters_found = Counter(split_it)\n",
    "    filtered_dict = {k: v for k, v in counters_found.most_common(amount) if len(k) >= l}\n",
    "    \n",
    "    return filtered_dict"
   ]
  },
  {
   "cell_type": "code",
   "execution_count": 241,
   "metadata": {},
   "outputs": [
    {
     "name": "stdout",
     "output_type": "stream",
     "text": [
      "WORDS REPEATS:\n",
      "{'не': 5}\n",
      "{'он': 3, 'где': 2}\n",
      "{'на': 3, 'но': 3}\n",
      "{'света': 2}\n",
      "{'не': 3, 'сердечных': 2}\n",
      "{'он': 3}\n",
      "{'мой': 2}\n",
      "{'не': 3}\n",
      "{'про': 2}\n",
      "мой дядя,\n",
      "где бедной,\n",
      "слова пора,\n",
      "когда старины.\n",
      "о не даной.\n",
      "как гостей\n",
      "зимой белоколи\n",
      "и простительный\n",
      "из это света\n",
      "ничто объяныка\n",
      "мне сумаца\n",
      "стоял неволе\n",
      "про долгиа\n",
      "мне перед,\n",
      "как будто нежнемя,\n",
      "когда беду,\n",
      "татьяна своей.\n",
      "\n",
      "\n",
      "\n",
      "xxxv\n",
      "\n",
      "но в санить\n",
      "опять вызьк молодой,\n",
      "с ней угрывы\n",
      "для онегин?\n",
      "\n",
      "\n",
      "\n",
      "xlvi\n",
      "\n",
      "но мне своей,\n",
      "и нынче проски,\n",
      "о сказала,\n",
      "как бури стражин,\n",
      "как он уме?\n",
      "кончили даной,\n",
      "и записторном\n",
      "и молча любовью,\n",
      "он поставляя,\n",
      "не знал, он умне,\n",
      "не понимать?» — так же молчить\n",
      "им обвиесь.\n",
      "он верил,\n"
     ]
    }
   ],
   "source": [
    "# An example of generated text.\n",
    "\n",
    "print('WORDS REPEATS:')\n",
    "for temp in range(1, 10, 1):\n",
    "    gen_text = generate_sample(model, token_to_idx, \"мой дядя\", 500, temperature = (temp / 10))\n",
    "    print(most_popular_words_set(gen_text, l = 2))\n",
    "\n",
    "gen_text = generate_sample(model, token_to_idx, \"мой дядя\", 500, temperature = 0.2)\n",
    "print(gen_text)"
   ]
  },
  {
   "cell_type": "code",
   "execution_count": 226,
   "metadata": {},
   "outputs": [],
   "source": [
    "# torch.save(model, 'rnn')"
   ]
  },
  {
   "cell_type": "markdown",
   "metadata": {},
   "source": [
    "Я проварьировал температуру от 0.1 до 1 с шагом 0.1. Можем заметить, что при меньшей температуре количество слов у которых длина >= 2 (т.е. не предлоги, частицы, местоимения и т.д и т.п.) больше. Можно варьировать параметр l, чтобы выбрать количество наиболее популярных слов с длиной не меньшей l. Я заметил, что практически всегда в конце диапозона повтор слов не превышает двух."
   ]
  },
  {
   "cell_type": "markdown",
   "metadata": {},
   "source": [
    "### More poetic model\n",
    "\n",
    "Let's use LSTM instead of vanilla RNN and compare the results.\n",
    "\n",
    "*Comment: if you wish, you can use small GPT as well (e.g. from https://github.com/karpathy/nanoGPT)*"
   ]
  },
  {
   "cell_type": "markdown",
   "metadata": {},
   "source": [
    "Plot the loss function of the number of epochs. Does the final loss become better?"
   ]
  },
  {
   "cell_type": "code",
   "execution_count": 227,
   "metadata": {},
   "outputs": [],
   "source": [
    "# Your beautiful code here\n",
    "def train1(model, loader, epochs = 10, learning_rate = 0.05):\n",
    "    opt = torch.optim.Adam(model.parameters(), lr=learning_rate)\n",
    "    cel = nn.CrossEntropyLoss()\n",
    "\n",
    "    loss_arr = []\n",
    "\n",
    "    start = datetime.datetime.now()\n",
    "    for i in range(epochs):\n",
    "        full = 0\n",
    "\n",
    "        for inps, tars in enumerate(loader):\n",
    "            inps = inps.to(device)\n",
    "            tars = tars.to(device)\n",
    "\n",
    "            hidden = model.init_hidden(inps.size(0))\n",
    "            opt.zero_grad()\n",
    "            out, _ = model(inps, model.init(inps.size(0)))\n",
    "\n",
    "            loss = cel(out.reshape(-1, len(token_to_idx)), tars.reshape(-1))\n",
    "            loss.backward()\n",
    "            opt.step()\n",
    "            full += loss.item()\n",
    "\n",
    "        loss_arr.append(full / len(loader))\n",
    "        print(i)\n",
    "\n",
    "    finish = datetime.datetime.now()\n",
    "    print(f'diff time:{str(finish - start)}')\n",
    "\n",
    "    return loss_arr\n",
    "\n",
    "class LSTM(nn.Module):\n",
    "    def __init__(self, size, emb_size = 64, hid_size = 64*2):\n",
    "        super().__init__()\n",
    "        self.embedding = nn.Embedding(size, emb_size)\n",
    "        self.lstm = nn.LSTM(emb_size, hid_size, num_layers = 1, batch_first = True)\n",
    "        self.linear = nn.Linear(hid_size, size)\n",
    "\n",
    "    def forward(self, x, hidden):\n",
    "        out, hidden = self.lstm(self.embedding(x), hidden)\n",
    "        return self.linear(out), hidden\n",
    "\n",
    "    def init(self, size):\n",
    "        return (torch.zeros(1, size, self.lstm.hidden_size).to(device), torch.zeros(1, size, self.lstm.hidden_size).to(device))"
   ]
  },
  {
   "cell_type": "markdown",
   "metadata": {},
   "source": [
    "Класс LSTM и функцию train1 я реализовал в точности, как и RNN с функцией train."
   ]
  },
  {
   "cell_type": "markdown",
   "metadata": {},
   "source": [
    "Generate text using the trained net with different `temperature` parameter: `[0.1, 0.2, 0.5, 1.0, 2.0]`.\n",
    "\n",
    "Evaluate the results visually, try to interpret them."
   ]
  },
  {
   "cell_type": "code",
   "execution_count": 228,
   "metadata": {},
   "outputs": [
    {
     "name": "stdout",
     "output_type": "stream",
     "text": [
      "0\n",
      "1\n",
      "2\n",
      "3\n",
      "4\n",
      "5\n",
      "6\n",
      "7\n",
      "8\n",
      "9\n",
      "10\n",
      "11\n",
      "12\n",
      "13\n",
      "14\n",
      "15\n",
      "16\n",
      "17\n",
      "18\n",
      "19\n",
      "20\n",
      "21\n",
      "22\n",
      "23\n",
      "24\n",
      "25\n",
      "26\n",
      "27\n",
      "28\n",
      "29\n",
      "30\n",
      "31\n",
      "32\n",
      "33\n",
      "34\n",
      "35\n",
      "36\n",
      "37\n",
      "38\n",
      "39\n",
      "diff time:0:04:53.843887\n"
     ]
    },
    {
     "data": {
      "image/png": "[encoded data removed]",
      "text/plain": [
       "<Figure size 640x480 with 1 Axes>"
      ]
     },
     "metadata": {},
     "output_type": "display_data"
    }
   ],
   "source": [
    "# Text generation with different temperature values here\n",
    "model = LSTM(len(token_to_idx)).to(device)\n",
    "plt.plot(train(model, TensorDataset(torch.cat(inps_arr), torch.cat(tars_arr)), epochs = 40, learning_rate = 0.001))\n",
    "plt.xlabel(\"epoch\")\n",
    "plt.ylabel(\"losses\")\n",
    "plt.show()"
   ]
  },
  {
   "cell_type": "markdown",
   "metadata": {},
   "source": [
    "### Saving and loading models"
   ]
  },
  {
   "cell_type": "markdown",
   "metadata": {},
   "source": [
    "Save the model to the disk, then load it and generate text. Examples are available [here](https://pytorch.org/tutorials/beginner/saving_loading_models.html])."
   ]
  },
  {
   "cell_type": "code",
   "execution_count": 259,
   "metadata": {},
   "outputs": [
    {
     "name": "stdout",
     "output_type": "stream",
     "text": [
      "WORDS REPEATS:\n",
      "{'не': 5, 'ним': 2}\n",
      "{'не': 4}\n",
      "{'на': 4}\n",
      "{'мой': 2}\n",
      "{'но': 3}\n",
      "{'когда': 2}\n",
      "{'мой': 2}\n",
      "{'но': 2}\n",
      "{'он': 3}\n",
      "мой дядя,\n",
      "где бедной,\n",
      "слова полани,\n",
      "мечтам невгеней.\n",
      "ничто медведь многи дева\n",
      "ты знаемый,\n",
      "но забывший,\n",
      "неугордость».\n",
      "прилждетной\n",
      "умен и нашей\n",
      "сиянье гонит…\n",
      "и в сем укжет.\n",
      "\n",
      "\n",
      "\n",
      "xxv\n",
      "\n",
      "и там уж о том,\n",
      "пойде, татьяна?» —\n",
      "«ну, че, так ль ваш волненье.\n",
      "но дней хранит\n",
      "прогулки молодой,\n",
      "на старый,\n",
      "и всё рассыла.\n",
      "ах, то льений\n",
      "задумавно\n",
      "на него рожаешь,\n",
      "там на правостью ее романа,\n",
      "в сем укжет.\n",
      "\n",
      "\n",
      "\n",
      "xxv\n",
      "\n",
      "грамм шумя:\n",
      "как онегин?\n",
      "\n",
      "\n",
      "\n",
      "xlii\n",
      "\n",
      "пойдем души своей.\n",
      "\n",
      "\n",
      "\n",
      "xxxv\n",
      "\n",
      "но вот одна\n",
      "с ним покой\n",
      "открыты искузамия ей\n",
      "п\n"
     ]
    }
   ],
   "source": [
    "# Saving and loading code here\n",
    "print('WORDS REPEATS:')\n",
    "for temp in range(1, 10, 1):\n",
    "    gen_text = generate_sample(model, token_to_idx, \"мой дядя\", 500, temperature = (temp / 10))\n",
    "    print(most_popular_words_set(gen_text, l = 2))\n",
    "\n",
    "gen_text = generate_sample(model, token_to_idx, \"мой дядя\", 500, temperature = 0.2)\n",
    "print(gen_text)"
   ]
  },
  {
   "cell_type": "code",
   "execution_count": 230,
   "metadata": {},
   "outputs": [],
   "source": [
    "# torch.save(model, 'lstm')"
   ]
  },
  {
   "cell_type": "markdown",
   "metadata": {},
   "source": [
    "### References\n",
    "1. <a href='http://karpathy.github.io/2015/05/21/rnn-effectiveness/'> Andrew Karpathy blog post about RNN. </a> \n",
    "There are several examples of genration: Shakespeare texts, Latex formulas, Linux Sourse Code and children names.\n",
    "2. <a href='https://github.com/karpathy/char-rnn'> Repo with char-rnn code </a>\n",
    "3. Cool repo with PyTorch examples: [link](https://github.com/spro/practical-pytorch)\n",
    "4. nanoGPT by Andrej Karpathy: https://github.com/karpathy/nanoGPT"
   ]
  },
  {
   "cell_type": "code",
   "execution_count": null,
   "metadata": {},
   "outputs": [],
   "source": []
  },
  {
   "cell_type": "code",
   "execution_count": null,
   "metadata": {},
   "outputs": [],
   "source": []
  },
  {
   "cell_type": "code",
   "execution_count": null,
   "metadata": {},
   "outputs": [],
   "source": []
  }
 ],
 "metadata": {
  "anaconda-cloud": {},
  "kernelspec": {
   "display_name": "Python 3 (ipykernel)",
   "language": "python",
   "name": "python3"
  },
  "language_info": {
   "codemirror_mode": {
    "name": "ipython",
    "version": 3
   },
   "file_extension": ".py",
   "mimetype": "text/x-python",
   "name": "python",
   "nbconvert_exporter": "python",
   "pygments_lexer": "ipython3",
   "version": "3.11.5"
  }
 },
 "nbformat": 4,
 "nbformat_minor": 2
}
